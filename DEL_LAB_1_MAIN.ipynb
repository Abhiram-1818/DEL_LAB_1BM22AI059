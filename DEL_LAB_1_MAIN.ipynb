{
 "cells": [
  {
   "cell_type": "code",
   "execution_count": 1,
   "id": "64fc9a3f",
   "metadata": {},
   "outputs": [
    {
     "name": "stdout",
     "output_type": "stream",
     "text": [
      "Output of the neuron with Sigmoid activation: [0.74009848]\n",
      "Output of the neuron with ReLU activation: [0.82863897]\n",
      "Output of the neuron with Tanh activation: [0.83894435]\n",
      "Output of the neuron with Tangent activation: [1.41203801]\n"
     ]
    }
   ],
   "source": [
    "import numpy as np\n",
    "\n",
    "def sigmoid(x):\n",
    "    return 1 / (1 + np.exp(-x))\n",
    "def relu(x):\n",
    "    return np.maximum(0, x)\n",
    "def tanh(x):\n",
    "    return np.tanh(x)\n",
    "def tangent(x):\n",
    "    return np.tan(x)\n",
    "\n",
    "class Neuron:\n",
    "    def __init__(self, num_inputs, activation_function=sigmoid):\n",
    "        self.weights = np.random.rand(num_inputs)  \n",
    "        self.bias = np.random.rand(1)              \n",
    "        self.activation_function = activation_function\n",
    "\n",
    "    def forward(self, inputs):\n",
    "        z = np.dot(self.weights, inputs) + self.bias\n",
    "        return self.activation_function(z)\n",
    "\n",
    "if __name__ == \"__main__\":\n",
    "    num_inputs = 4  \n",
    "    inputs = np.array([0.5, 0.2, 0.1, 0.3])  \n",
    "\n",
    "    neurons = {\n",
    "        'Sigmoid': Neuron(num_inputs, activation_function=sigmoid),\n",
    "        'ReLU': Neuron(num_inputs, activation_function=relu),\n",
    "        'Tanh': Neuron(num_inputs, activation_function=tanh),\n",
    "        'Tangent': Neuron(num_inputs, activation_function=tangent)  \n",
    "    }\n",
    "\n",
    "    for name, neuron in neurons.items():\n",
    "        output = neuron.forward(inputs)\n",
    "        print(f'Output of the neuron with {name} activation: {output}')\n"
   ]
  },
  {
   "cell_type": "code",
   "execution_count": null,
   "id": "df578a3a",
   "metadata": {},
   "outputs": [],
   "source": []
  }
 ],
 "metadata": {
  "kernelspec": {
   "display_name": "Python 3 (ipykernel)",
   "language": "python",
   "name": "python3"
  },
  "language_info": {
   "codemirror_mode": {
    "name": "ipython",
    "version": 3
   },
   "file_extension": ".py",
   "mimetype": "text/x-python",
   "name": "python",
   "nbconvert_exporter": "python",
   "pygments_lexer": "ipython3",
   "version": "3.9.12"
  }
 },
 "nbformat": 4,
 "nbformat_minor": 5
}
